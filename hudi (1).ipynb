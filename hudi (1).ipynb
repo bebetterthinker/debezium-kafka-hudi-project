{
	"metadata": {
		"kernelspec": {
			"name": "glue_pyspark",
			"display_name": "Glue PySpark",
			"language": "python"
		},
		"language_info": {
			"name": "Python_Glue_Session",
			"mimetype": "text/x-python",
			"codemirror_mode": {
				"name": "python",
				"version": 3
			},
			"pygments_lexer": "python3",
			"file_extension": ".py"
		}
	},
	"nbformat_minor": 4,
	"nbformat": 4,
	"cells": [
		{
			"cell_type": "markdown",
			"source": "\n# Glue Studio Notebook\nYou are now running a **Glue Studio** notebook; before you can start using your notebook you *must* start an interactive session.\n\n## Available Magics\n|          Magic              |   Type       |                                                                        Description                                                                        |\n|-----------------------------|--------------|-----------------------------------------------------------------------------------------------------------------------------------------------------------|\n| %%configure                 |  Dictionary  |  A json-formatted dictionary consisting of all configuration parameters for a session. Each parameter can be specified here or through individual magics. |\n| %profile                    |  String      |  Specify a profile in your aws configuration to use as the credentials provider.                                                                          |\n| %iam_role                   |  String      |  Specify an IAM role to execute your session with.                                                                                                        |\n| %region                     |  String      |  Specify the AWS region in which to initialize a session.                                                                                                 |\n| %session_id                 |  String      |  Returns the session ID for the running session.                                                                                                          |\n| %connections                |  List        |  Specify a comma separated list of connections to use in the session.                                                                                     |\n| %additional_python_modules  |  List        |  Comma separated list of pip packages, s3 paths or private pip arguments.                                                                                 |\n| %extra_py_files             |  List        |  Comma separated list of additional Python files from S3.                                                                                                 |\n| %extra_jars                 |  List        |  Comma separated list of additional Jars to include in the cluster.                                                                                       |\n| %number_of_workers          |  Integer     |  The number of workers of a defined worker_type that are allocated when a job runs. worker_type must be set too.                                          |\n| %glue_version               |  String      |  The version of Glue to be used by this session. Currently, the only valid options are 2.0 and 3.0 (eg: %glue_version 2.0).                               |\n| %security_config            |  String      |  Define a security configuration to be used with this session.                                                                                            |\n| %sql                        |  String      |  Run SQL code. All lines after the initial %%sql magic will be passed as part of the SQL code.                                                            |\n| %streaming                  |  String      |  Changes the session type to Glue Streaming.                                                                                                              |\n| %etl                        |  String      |  Changes the session type to Glue ETL.                                                                                                                    |\n| %status                     |              |  Returns the status of the current Glue session including its duration, configuration and executing user / role.                                          |\n| %stop_session               |              |  Stops the current session.                                                                                                                               |\n| %list_sessions              |              |  Lists all currently running sessions by name and ID.                                                                                                     |\n| %worker_type                |  String      |  Standard, G.1X, *or* G.2X. number_of_workers must be set too. Default is G.1X.                                                                           |\n| %spark_conf                 |  String      |  Specify custom spark configurations for your session. E.g. %spark_conf spark.serializer=org.apache.spark.serializer.KryoSerializer.                      |",
			"metadata": {
				"editable": false,
				"deletable": false,
				"trusted": true
			}
		},
		{
			"cell_type": "markdown",
			"source": "# Step 1: Define your configurations",
			"metadata": {}
		},
		{
			"cell_type": "code",
			"source": "%stop_session",
			"metadata": {
				"trusted": true
			},
			"execution_count": 20,
			"outputs": [
				{
					"name": "stdout",
					"text": "Stopping session: 2dab248f-060f-4bd5-aa02-582c282ace51\nStopped session.\n",
					"output_type": "stream"
				}
			]
		},
		{
			"cell_type": "code",
			"source": "%connections hudi-connection\n%glue_version 3.0\n%region us-east-1\n%worker_type G.1X\n%number_of_workers 2\n%spark_conf spark.serializer=org.apache.spark.serializer.KryoSerializer\n%additional_python_modules Faker",
			"metadata": {
				"tags": [],
				"trusted": true
			},
			"execution_count": 36,
			"outputs": [
				{
					"name": "stdout",
					"text": "Connections to be included:\nhudi-connection\nSetting Glue version to: 3.0\nPrevious region: us-east-1\nSetting new region to: us-east-1\nReauthenticating Glue client with new region: us-east-1\nIAM role has been set to arn:aws:iam::043916019468:role/Lab3. Reauthenticating.\nAuthenticating with environment variables and user-defined glue_role_arn: arn:aws:iam::043916019468:role/Lab3\nAuthentication done.\nRegion is set to: us-east-1\nPrevious worker type: G.1X\nSetting new worker type to: G.1X\nPrevious number of workers: 2\nSetting new number of workers to: 2\nPrevious Spark configuration: spark.serializer=org.apache.spark.serializer.KryoSerializer\nSetting new Spark configuration to: spark.serializer=org.apache.spark.serializer.KryoSerializer\nAdditional python modules to be included:\nFaker\n",
					"output_type": "stream"
				}
			]
		},
		{
			"cell_type": "markdown",
			"source": "# Step 2: Define your Imports",
			"metadata": {}
		},
		{
			"cell_type": "code",
			"source": "try:\n    import sys\n    from awsglue.transforms import *\n    from awsglue.utils import getResolvedOptions\n    from pyspark.context import SparkContext\n    from awsglue.context import GlueContext\n    from awsglue.job import Job\n    from pyspark.sql.session import SparkSession\n    from awsglue.dynamicframe import DynamicFrame\n    from pyspark.sql.functions import col, to_timestamp, monotonically_increasing_id, to_date, when\n    from pyspark.sql.functions import *\n    from awsglue.utils import getResolvedOptions\n    from pyspark.sql.types import *\n    from datetime import datetime\n    import boto3\n    from functools import reduce\n    from datetime import datetime, timezone\n    from random import randint\n    import datetime\n    from faker import Faker\n    import random\n\nexcept Exception as e:\n    pass",
			"metadata": {
				"editable": true,
				"trusted": true
			},
			"execution_count": 1,
			"outputs": [
				{
					"name": "stdout",
					"text": "Trying to create a Glue session for the kernel.\nWorker Type: G.1X\nNumber of Workers: 2\nSession ID: 82c403ad-9a28-4877-a969-a194495f7be4\nJob Type: glueetl\nApplying the following default arguments:\n--glue_kernel_version 0.37.0\n--enable-glue-datacatalog true\n--conf spark.serializer=org.apache.spark.serializer.KryoSerializer\n--additional-python-modules Faker\nWaiting for session 82c403ad-9a28-4877-a969-a194495f7be4 to get into ready status...\nSession 82c403ad-9a28-4877-a969-a194495f7be4 has been created.\n\n",
					"output_type": "stream"
				}
			]
		},
		{
			"cell_type": "markdown",
			"source": "# Step 3: Create Spark Session",
			"metadata": {}
		},
		{
			"cell_type": "code",
			"source": "spark = SparkSession.builder.config('spark.serializer','org.apache.spark.serializer.KryoSerializer').config('spark.sql.hive.convertMetastoreParquet','false').config('spark.sql.legacy.pathOptionBehavior.enabled', 'true').getOrCreate()\nsc = spark.sparkContext\nglueContext = GlueContext(sc)\njob = Job(glueContext)\nlogger = glueContext.get_logger()",
			"metadata": {
				"trusted": true
			},
			"execution_count": 2,
			"outputs": [
				{
					"name": "stdout",
					"text": "\n",
					"output_type": "stream"
				}
			]
		},
		{
			"cell_type": "markdown",
			"source": "# Step 4: Read Data from S3 and Performing Upsert on Datalake \n### To practise Concepts we shall generate fake data and work off that ",
			"metadata": {}
		},
		{
			"cell_type": "code",
			"source": "RAW_SOURCE= \"s3://glue-learn-begineers/topics/postgres.public.sales/\"",
			"metadata": {
				"trusted": true
			},
			"execution_count": 4,
			"outputs": [
				{
					"name": "stdout",
					"text": "\n",
					"output_type": "stream"
				}
			]
		},
		{
			"cell_type": "code",
			"source": "AmazonS3_node1672188803752 = glueContext.create_dynamic_frame.from_options(\n    format_options={\"multiline\": False},\n    connection_type=\"s3\",\n    format=\"json\",\n    connection_options={\n        \"paths\": [RAW_SOURCE],\n        \"recurse\": True,\n    },\n    transformation_ctx=\"AmazonS3_node1672188803752\",\n)",
			"metadata": {
				"trusted": true
			},
			"execution_count": 5,
			"outputs": [
				{
					"name": "stdout",
					"text": "\n",
					"output_type": "stream"
				}
			]
		},
		{
			"cell_type": "code",
			"source": "spark_df = AmazonS3_node1672188803752.toDF()",
			"metadata": {
				"trusted": true
			},
			"execution_count": 6,
			"outputs": [
				{
					"name": "stdout",
					"text": "\n",
					"output_type": "stream"
				}
			]
		},
		{
			"cell_type": "code",
			"source": "spark_df.show(3)",
			"metadata": {
				"trusted": true
			},
			"execution_count": 7,
			"outputs": [
				{
					"name": "stdout",
					"text": "+------+--------------------+--------------------+---+-------------+\n|before|               after|              source| op|        ts_ms|\n+------+--------------------+--------------------+---+-------------+\n|  null|{19183, 98, Kitch...|{0.10.0.Final, po...|  c|1672192114302|\n|  null|{6843, 2, Kitchen...|{0.10.0.Final, po...|  c|1672192116311|\n|  null|{17175, 39, Offic...|{0.10.0.Final, po...|  c|1672192118332|\n+------+--------------------+--------------------+---+-------------+\nonly showing top 3 rows\n",
					"output_type": "stream"
				}
			]
		},
		{
			"cell_type": "code",
			"source": "spark_df.select(\"after.*\").show(truncate=False)",
			"metadata": {
				"trusted": true
			},
			"execution_count": 8,
			"outputs": [
				{
					"name": "stdout",
					"text": "+---------+------+---------+---------+--------+----------------+----------------+------------+----------------+\n|invoiceid|itemid|category |price    |quantity|orderdate       |destinationstate|shippingtype|referral        |\n+---------+------+---------+---------+--------+----------------+----------------+------------+----------------+\n|19183    |98    |Kitchen  |{0, FQ==}|3       |1482451200000000|MT              |2-Day       |Online Ad       |\n|6843     |2     |Kitchen  |{0, JQ==}|1       |1460678400000000|OK              |2-Day       |Friend/Colleague|\n|17175    |39    |Office   |{0, Og==}|1       |1460419200000000|ME              |Free        |Repeat Customer |\n|18975    |62    |Kitchen  |{0, Mw==}|4       |1471737600000000|OR              |2-Day       |Other           |\n|6129     |43    |Office   |{0, LQ==}|2       |1457049600000000|OH              |3-Day       |Friend/Colleague|\n|10153    |54    |Garden   |{0, Tw==}|3       |1468886400000000|WY              |Free        |Repeat Customer |\n|158      |36    |Kitchen  |{0, OA==}|4       |1463529600000000|TN              |2-Day       |Repeat Customer |\n|13437    |39    |Household|{0, SA==}|4       |1464739200000000|IA              |3-Day       |Other           |\n|15185    |32    |Garden   |{0, UA==}|3       |1453507200000000|NH              |2-Day       |Online Ad       |\n|11753    |55    |Office   |{0, OA==}|4       |1452384000000000|GA              |Free        |Other           |\n|1761     |46    |Garden   |{0, PA==}|1       |1465862400000000|NV              |3-Day       |Online Ad       |\n|15328    |14    |Office   |{0, Fw==}|4       |1470700800000000|AL              |3-Day       |Online Ad       |\n|1490     |27    |Household|{0, MQ==}|3       |1464048000000000|MN              |3-Day       |Other           |\n|10961    |11    |Office   |{0, Pg==}|3       |1467676800000000|UT              |Free        |Friend/Colleague|\n|14040    |52    |Office   |{0, Lw==}|4       |1468540800000000|MO              |2-Day       |Friend/Colleague|\n|16125    |43    |Office   |{0, Ng==}|1       |1462665600000000|MA              |2-Day       |Online Ad       |\n|5240     |40    |Kitchen  |{0, LQ==}|1       |1472860800000000|CT              |3-Day       |Online Ad       |\n|9043     |96    |Kitchen  |{0, Rw==}|4       |1454630400000000|LA              |2-Day       |Other           |\n|7136     |49    |Office   |{0, WA==}|1       |1453852800000000|WA              |Free        |Online Ad       |\n|13495    |86    |Kitchen  |{0, Yg==}|2       |1474502400000000|IN              |2-Day       |Friend/Colleague|\n+---------+------+---------+---------+--------+----------------+----------------+------------+----------------+\nonly showing top 20 rows\n",
					"output_type": "stream"
				}
			]
		},
		{
			"cell_type": "code",
			"source": "spark_df = spark_df.select(\"after.*\")",
			"metadata": {
				"trusted": true
			},
			"execution_count": 9,
			"outputs": [
				{
					"name": "stdout",
					"text": "\n",
					"output_type": "stream"
				}
			]
		},
		{
			"cell_type": "code",
			"source": "spark_df = spark_df.drop(\"price\")",
			"metadata": {
				"trusted": true
			},
			"execution_count": 11,
			"outputs": [
				{
					"name": "stdout",
					"text": "\n",
					"output_type": "stream"
				}
			]
		},
		{
			"cell_type": "code",
			"source": "spark_df.show(1)",
			"metadata": {
				"trusted": true
			},
			"execution_count": 12,
			"outputs": [
				{
					"name": "stdout",
					"text": "+---------+------+--------+--------+----------------+----------------+------------+---------+\n|invoiceid|itemid|category|quantity|       orderdate|destinationstate|shippingtype| referral|\n+---------+------+--------+--------+----------------+----------------+------------+---------+\n|    19183|    98| Kitchen|       3|1482451200000000|              MT|       2-Day|Online Ad|\n+---------+------+--------+--------+----------------+----------------+------------+---------+\nonly showing top 1 row\n",
					"output_type": "stream"
				}
			]
		},
		{
			"cell_type": "markdown",
			"source": "# Step 5: Define Hudi Settings ",
			"metadata": {
				"tags": []
			}
		},
		{
			"cell_type": "code",
			"source": "db_name = \"hudidb\"\ntable_name=\"sales\"\n\nrecordkey = 'invoiceid'\nprecombine = 'itemid'\n\npath = f\"s3://glue-learn-begineers/hudi/{table_name}/\"\nmethod = 'upsert'                                 # bulk_insert | upsert | insert | delete\ntable_type = \"COPY_ON_WRITE\"\n\ncurr_session = boto3.session.Session()\ncurr_region = curr_session.region_name\n",
			"metadata": {
				"trusted": true
			},
			"execution_count": 13,
			"outputs": [
				{
					"name": "stdout",
					"text": "\n",
					"output_type": "stream"
				}
			]
		},
		{
			"cell_type": "code",
			"source": "connection_options={\n    \"path\": path,\n    \"connectionName\": \"hudi-connection\",\n\n    \"hoodie.datasource.write.storage.type\": table_type,\n    'className': 'org.apache.hudi',\n    'hoodie.table.name': table_name,\n    'hoodie.datasource.write.recordkey.field': recordkey,\n    'hoodie.datasource.write.table.name': table_name,\n    'hoodie.datasource.write.operation': method,\n    'hoodie.datasource.write.precombine.field': precombine,\n\n\n    'hoodie.datasource.hive_sync.enable': 'true',\n    \"hoodie.datasource.hive_sync.mode\":\"hms\",\n    'hoodie.datasource.hive_sync.sync_as_datasource': 'false',\n    'hoodie.datasource.hive_sync.database': db_name,\n    'hoodie.datasource.hive_sync.table': table_name,\n    'hoodie.datasource.hive_sync.use_jdbc': 'false',\n    'hoodie.datasource.hive_sync.partition_extractor_class': 'org.apache.hudi.hive.MultiPartKeysValueExtractor',\n    'hoodie.datasource.write.hive_style_partitioning': 'true',\n    \n    \n    \n    'hoodie.write.concurrency.mode' : 'optimistic_concurrency_control'\n    ,'hoodie.cleaner.policy.failed.writes' : 'LAZY'\n    ,'hoodie.write.lock.provider' : 'org.apache.hudi.aws.transaction.lock.DynamoDBBasedLockProvider'\n    ,'hoodie.write.lock.dynamodb.table' : 'hudi-lock-table'\n    ,'hoodie.write.lock.dynamodb.partition_key' : 'tablename'\n    ,'hoodie.write.lock.dynamodb.region' : '{0}'.format(curr_region)\n    ,'hoodie.write.lock.dynamodb.endpoint_url' : 'dynamodb.{0}.amazonaws.com'.format(curr_region)\n    ,'hoodie.write.lock.dynamodb.billing_mode' : 'PAY_PER_REQUEST'\n    ,'hoodie.bulkinsert.shuffle.parallelism': 2000\n    \n    \n    \n}",
			"metadata": {
				"trusted": true
			},
			"execution_count": 14,
			"outputs": [
				{
					"name": "stdout",
					"text": "\n",
					"output_type": "stream"
				}
			]
		},
		{
			"cell_type": "markdown",
			"source": "# Step 5: Write data into HUDI Table",
			"metadata": {}
		},
		{
			"cell_type": "code",
			"source": "import datetime \nstart = datetime.datetime.now()\nApacheHudiConnector0101forAWSGlue30_node1671045598524 = (\n    glueContext.write_dynamic_frame.from_options(\n        frame=DynamicFrame.fromDF(spark_df, glueContext,\"glue_df\"),\n        connection_type=\"marketplace.spark\",\n        connection_options=connection_options,\n        transformation_ctx=\"glue_df\",\n    )\n)\nend = datetime.datetime.now()\nprint(\"Execution Time: {} \".format(end-start))",
			"metadata": {
				"trusted": true
			},
			"execution_count": 15,
			"outputs": [
				{
					"name": "stdout",
					"text": "Execution Time: 0:00:22.547273\n",
					"output_type": "stream"
				}
			]
		},
		{
			"cell_type": "code",
			"source": "",
			"metadata": {},
			"execution_count": null,
			"outputs": []
		}
	]
}